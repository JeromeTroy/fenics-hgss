{
 "cells": [
  {
   "cell_type": "markdown",
   "metadata": {},
   "source": [
    "# Catenary"
   ]
  },
  {
   "cell_type": "markdown",
   "metadata": {},
   "source": [
    "$$\n",
    "\\min_{u, \\lambda} F(u; \\lambda) = \\int_{-1}^1 u \\sqrt{1 + (\\epsilon u')^2} \\, dx - \n",
    "\\lambda \\int_{-1}^1 \\left[\\frac{\\ell}{2} - \\sqrt{1 + (\\epsilon u')^2} \\right] \\, dx\n",
    "$$\n",
    "\n",
    "$$\n",
    "\\frac{ds}{dx} = \\sqrt{1 + (\\epsilon u')^2} \\implies F(u; \\lambda) = \\int_{-1}^1 u(x) \\frac{ds}{dx}(x) - \n",
    "\\lambda \\left[\\frac{\\ell}{2} - \\frac{ds}{dx}(x) \\right] \\, dx\n",
    "$$"
   ]
  },
  {
   "cell_type": "code",
   "execution_count": 3,
   "metadata": {},
   "outputs": [
    {
     "name": "stdout",
     "output_type": "stream",
     "text": [
      "2.597033699203166e-12\n"
     ]
    },
    {
     "data": {
      "image/png": "[encoded data removed]",
      "text/plain": [
       "<Figure size 432x288 with 1 Axes>"
      ]
     },
     "metadata": {
      "needs_background": "light"
     },
     "output_type": "display_data"
    }
   ],
   "source": [
    "from fenics import *\n",
    "from mshr import *\n",
    "import matplotlib.pyplot as plt\n",
    "\n",
    "# parameters\n",
    "ℓ = Constant(3)\n",
    "ϵ = Constant(0.5)\n",
    "\n",
    "# mesh\n",
    "N = 50\n",
    "mesh = IntervalMesh(N, -1, 1)\n",
    "\n",
    "# build function space for F\n",
    "u_fe = FiniteElement(\"CG\", mesh.ufl_cell(), 1)   # space for u\n",
    "λ_fe = FiniteElement(\"R\", mesh.ufl_cell(), 0)   # λ in R\n",
    "V = FunctionSpace(mesh, MixedElement([u_fe, λ_fe]))  # C[-1, 1] x R\n",
    "\n",
    "# get my functional\n",
    "f = Function(V)\n",
    "\n",
    "# split up u and λ\n",
    "u, λ = split(f)\n",
    "\n",
    "# build the functional\n",
    "dsdx = sqrt(1 + (ϵ * u.dx(0)**2))   # x**2 = x^2\n",
    "\n",
    "# constraint\n",
    "constraint = (ℓ / Constant(2) - dsdx)\n",
    "F = (u * dsdx - λ * constraint) * dx\n",
    "# total derivative\n",
    "dF = derivative(F, f)\n",
    "# second derivative\n",
    "d2F = derivative(dF, f)\n",
    "\n",
    "\n",
    "# boundary condition\n",
    "bc = DirichletBC(V.sub(0), Constant(0), \"on_boundary\")    # 0'th subspace of V is C[-1, 1]\n",
    "\n",
    "\n",
    "# initial guess\n",
    "init_val = 1.0\n",
    "f.interpolate(Expression((\"amp*(x[0]+1)*(x[0]-1)\",\"0\"),degree=2,amp=init_val))\n",
    "\n",
    "# build the nonlinear problem\n",
    "problem = NonlinearVariationalProblem(dF, f, bc, d2F)\n",
    "\n",
    "# build a solver\n",
    "solver = NonlinearVariationalSolver(problem)\n",
    "solver.parameters['nonlinear_solver'] = 'snes'\n",
    "solver.parameters['snes_solver']['line_search'] = 'bt'\n",
    "solver.parameters['snes_solver']['maximum_iterations'] = 1000\n",
    "\n",
    "# solve\n",
    "solver.solve()\n",
    "\n",
    "# verify the solution satisfies the constraint:\n",
    "print(assemble(dsdx * dx) - float(ℓ))\n",
    "\n",
    "# plot result\n",
    "plot(u)\n",
    "plt.xlabel(\"x\")\n",
    "plt.ylabel(\"u(x)\")\n",
    "plt.show()"
   ]
  },
  {
   "cell_type": "code",
   "execution_count": null,
   "metadata": {},
   "outputs": [],
   "source": []
  }
 ],
 "metadata": {
  "kernelspec": {
   "display_name": "Python 3",
   "language": "python",
   "name": "python3"
  },
  "language_info": {
   "codemirror_mode": {
    "name": "ipython",
    "version": 3
   },
   "file_extension": ".py",
   "mimetype": "text/x-python",
   "name": "python",
   "nbconvert_exporter": "python",
   "pygments_lexer": "ipython3",
   "version": "3.7.3"
  }
 },
 "nbformat": 4,
 "nbformat_minor": 2
}
